{
 "cells": [
  {
   "cell_type": "markdown",
   "metadata": {},
   "source": [
    "# The MauiAppCompatActivity class is part of the .NET MAUI framework, which needs to be installed and properly set up.\n",
    "\n",
    "To resolve this issue, you should install the .NET MAUI workload. Here's what you need to do:\n",
    "\n",
    "1. Make sure you have the latest version of .NET SDK installed (preferably .NET 6 or later).\n",
    "2. Open a command prompt or terminal and run the following command to install the MAUI workload:"
   ]
  },
  {
   "cell_type": "code",
   "execution_count": null,
   "metadata": {
    "dotnet_interactive": {
     "language": "csharp"
    },
    "polyglot_notebook": {
     "kernelName": "csharp"
    },
    "vscode": {
     "languageId": "polyglot-notebook"
    }
   },
   "outputs": [],
   "source": [
    "dotnet workload install maui"
   ]
  },
  {
   "cell_type": "markdown",
   "metadata": {},
   "source": [
    "3. If you're using Visual Studio, make sure you have the latest version with the \".NET Multi-platform App UI development\" workload installed.\n",
    "4. After installation, restart your IDE (Visual Studio or Visual Studio Code) and rebuild your project."
   ]
  },
  {
   "cell_type": "markdown",
   "metadata": {},
   "source": [
    "# The compilation problem was caused by the missing MauiAppCompatActivity class in the Android project.\n",
    "\n",
    "- The nuget packages Microsoft.Maui.Controls.* had to be downgraded to version 8.0.100 or lower.\n"
   ]
  },
  {
   "cell_type": "markdown",
   "metadata": {},
   "source": [
    "## Publishing Process\n",
    "\n",
    "The application is published using two command files:\n",
    "\n",
    "1. `publish - safe.cmd`: A template file that contains the publishing command with password placeholders\n",
    "2. `publish.cmd`: The actual publishing script created by copying `publish - safe.cmd` and replacing `{password}` placeholders with real passwords\n",
    "\n",
    "To create your own `publish.cmd`:\n",
    "1. Copy `publish - safe.cmd` to `publish.cmd`\n",
    "2. Replace both instances of `{password}` with your actual keystore and key passwords\n",
    "3. Ensure your keystore file (`yiching.keystore`) is in the correct location\n",
    "4. Run `publish.cmd` to build and sign the Android application\n",
    "\n",
    "Note: `publish.cmd` should never be committed to version control as it contains sensitive information."
   ]
  },
  {
   "cell_type": "markdown",
   "metadata": {},
   "source": [
    "## Publishing Process\n",
    "\n",
    "The application is published using two command files:\n",
    "\n",
    "1. `publish - safe.cmd`: A template file that contains the publishing command with password placeholders\n",
    "2. `publish.cmd`: The actual publishing script created by copying `publish - safe.cmd` and replacing `{password}` placeholders with real passwords\n",
    "\n",
    "### Template (`publish - safe.cmd`):\n"
   ]
  },
  {
   "cell_type": "code",
   "execution_count": null,
   "metadata": {
    "dotnet_interactive": {
     "language": "pwsh"
    },
    "polyglot_notebook": {
     "kernelName": "pwsh"
    },
    "vscode": {
     "languageId": "polyglot-notebook"
    }
   },
   "outputs": [],
   "source": [
    "rem See g:\\My Drive\\Sys\\Backup\\AndroidKeystore\\\n",
    "dotnet restore\n",
    "dotnet publish -f net8.0-android34.0 -c Release -p:AndroidKeyStore=true -p:AndroidSigningKeyStore=yiching.keystore -p:AndroidSigningKeyAlias=yiching -p:AndroidSigningKeyPass={password} -p:AndroidSigningStorePass={password}\n",
    "pause"
   ]
  },
  {
   "cell_type": "code",
   "execution_count": null,
   "metadata": {
    "dotnet_interactive": {
     "language": "pwsh"
    },
    "polyglot_notebook": {
     "kernelName": "pwsh"
    },
    "vscode": {
     "languageId": "polyglot-notebook"
    }
   },
   "outputs": [],
   "source": [
    "rem See g:\\My Drive\\Sys\\Backup\\AndroidKeystore\\\n",
    "dotnet restore\n",
    "dotnet publish -f net8.0-android34.0 -c Release -p:AndroidKeyStore=true -p:AndroidSigningKeyStore=yiching.keystore -p:AndroidSigningKeyAlias=yiching -p:AndroidSigningKeyPass=MySecurePass123 -p:AndroidSigningStorePass=MySecurePass123\n",
    "pause"
   ]
  },
  {
   "cell_type": "markdown",
   "metadata": {},
   "source": [
    "The output apk will be in the .\\YiChing\\bin\\Release\\net8.0-android34.0\\publish\\ folder with name com.PneumaSoft.yiching-Signed.apk. \n",
    "\n",
    "copy it your GDrive: g:\\My Drive\\Docs\\Shared\\"
   ]
  }
 ],
 "metadata": {
  "kernelspec": {
   "display_name": ".NET (C#)",
   "language": "C#",
   "name": ".net-csharp"
  },
  "language_info": {
   "name": "python"
  },
  "polyglot_notebook": {
   "kernelInfo": {
    "defaultKernelName": "csharp",
    "items": [
     {
      "aliases": [],
      "name": "csharp"
     }
    ]
   }
  }
 },
 "nbformat": 4,
 "nbformat_minor": 2
}
