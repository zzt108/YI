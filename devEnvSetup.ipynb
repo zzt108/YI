{
 "cells": [
  {
   "cell_type": "markdown",
   "metadata": {},
   "source": [
    "# YI Ching App Development Environment Setup Guide\n",
    "\n",
    "This notebook provides comprehensive instructions for setting up the development environment for the YI Ching application, including installation requirements, configuration steps, and publishing procedures.\n",
    "\n",
    "## Table of Contents\n",
    "1. Prerequisites\n",
    "2. Development Environment Setup\n",
    "3. Publishing Guide\n",
    "4. Troubleshooting"
   ]
  },
  {
   "cell_type": "markdown",
   "metadata": {},
   "source": [
    "## 1. Prerequisites\n",
    "\n",
    "Before starting development, ensure you have the following:\n",
    "\n",
    "- .NET SDK (version 6.0 or later)\n",
    "- Visual Studio 2022 or Visual Studio Code\n",
    "- Android SDK (for mobile development)\n",
    "- Git for version control\n",
    "\n",
    "### Required Visual Studio Workloads\n",
    "- .NET Multi-platform App UI development\n",
    "- .NET desktop development\n",
    "- Mobile development with .NET"
   ]
  },
  {
   "cell_type": "markdown",
   "metadata": {},
   "source": [
    "## 2. Development Environment Setup\n",
    "\n",
    "### 2.1 Installing MAUI Workload\n",
    "\n",
    "The MAUI workload is essential for our cross-platform development. Install it using the following command:"
   ]
  },
  {
   "cell_type": "code",
   "execution_count": null,
   "metadata": {
    "dotnet_interactive": {
     "language": "pwsh"
    }
   },
   "outputs": [],
   "source": [
    "dotnet workload install maui"
   ]
  },
  {
   "cell_type": "markdown",
   "metadata": {},
   "source": [
    "### 2.2 Package Version Requirements\n",
    "\n",
    "**Important Note:** Package version compatibility\n",
    "- Microsoft.Maui.Controls.* packages must be version 8.0.100 or lower\n",
    "- Using higher versions may cause compilation issues with MauiAppCompatActivity\n",
    "\n",
    "To verify your package versions, check the .csproj file or use the NuGet package manager."
   ]
  },
  {
   "cell_type": "markdown",
   "metadata": {},
   "source": [
    "## 3. Publishing Guide\n",
    "\n",
    "### 3.1 Publishing Files Structure\n",
    "\n",
    "The publishing process uses two important files:\n",
    "1. `publish - safe.cmd` - Template file (safe to commit to version control)\n",
    "2. `publish.cmd` - Actual publishing script with real passwords (DO NOT commit)\n",
    "\n",
    "### 3.2 Publishing Steps\n",
    "\n",
    "1. Create your publishing script:\n",
    "   - Copy `publish - safe.cmd` to `publish.cmd`\n",
    "   - Replace `{password}` placeholders with actual keystore passwords\n",
    "   - Ensure `yiching.keystore` is in the correct location\n",
    "\n",
    "2. Publishing command template:"
   ]
  },
  {
   "cell_type": "code",
   "execution_count": null,
   "metadata": {
    "dotnet_interactive": {
     "language": "pwsh"
    }
   },
   "outputs": [],
   "source": [
    "rem See g:\\My Drive\\Sys\\Backup\\AndroidKeystore\\\n",
    "dotnet restore\n",
    "dotnet publish -f net8.0-android34.0 -c Release -p:AndroidKeyStore=true -p:AndroidSigningKeyStore=yiching.keystore -p:AndroidSigningKeyAlias=yiching -p:AndroidSigningKeyPass={password} -p:AndroidSigningStorePass={password}\n",
    "pause"
   ]
  },
  {
   "cell_type": "markdown",
   "metadata": {},
   "source": [
    "### 3.3 Output Location\n",
    "\n",
    "After successful publishing:\n",
    "- The signed APK will be in: `.\\YiChing\\bin\\Release\\net8.0-android34.0\\publish\\`\n",
    "- Filename: `com.PneumaSoft.yiching-Signed.apk`\n",
    "- Copy the APK to Google Drive: `g:\\My Drive\\Docs\\Shared\\`"
   ]
  },
  {
   "cell_type": "markdown",
   "metadata": {},
   "source": [
    "## 4. Troubleshooting\n",
    "\n",
    "### Common Issues and Solutions\n",
    "\n",
    "1. **MauiAppCompatActivity Missing**\n",
    "   - Cause: Incompatible MAUI package versions\n",
    "   - Solution: Downgrade Microsoft.Maui.Controls.* packages to version 8.0.100 or lower\n",
    "\n",
    "2. **Build Errors**\n",
    "   - Verify .NET SDK version\n",
    "   - Run `dotnet restore` before building\n",
    "   - Check for any missing Android SDK components\n",
    "\n",
    "3. **Publishing Errors**\n",
    "   - Verify keystore file location\n",
    "   - Ensure correct passwords in publish.cmd\n",
    "   - Check Android SDK version compatibility\n",
    "\n",
    "For additional support, consult the project documentation or raise an issue in the repository."
   ]
  }
 ],
 "metadata": {
  "kernelspec": {
   "display_name": ".NET (C#)",
   "language": "C#",
   "name": ".net-csharp"
  },
  "language_info": {
   "name": "python"
  },
  "polyglot_notebook": {
   "kernelInfo": {
    "defaultKernelName": "csharp",
    "items": [
     {
      "aliases": [],
      "name": "csharp"
     }
    ]
   }
  }
 },
 "nbformat": 4,
 "nbformat_minor": 2
}